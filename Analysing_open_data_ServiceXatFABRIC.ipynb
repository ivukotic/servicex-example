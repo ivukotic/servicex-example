{
 "cells": [
  {
   "cell_type": "markdown",
   "id": "ac378ddd-0ad9-4aa8-90e4-05b8eaf2d541",
   "metadata": {},
   "source": [
    "## Analysing Open Data using ServiceX@Fabric"
   ]
  },
  {
   "cell_type": "markdown",
   "id": "c43147c4-7ee9-4eda-8abe-76b602d5bf69",
   "metadata": {},
   "source": [
    "To start one needs to install ServiceX client and a few python packages.\n",
    "The easiest way to do this is to open a Jupyter terminal and execute this command:\n",
    "\n",
    "_*pip install -r requirements.txt*_\n",
    "\n",
    "If you have a notebook already started, kernel should be restarted in order for the new packages to be visible."
   ]
  },
  {
   "cell_type": "code",
   "execution_count": 1,
   "id": "7bb4d8a9-85aa-4861-87bd-26911bcc9dcf",
   "metadata": {},
   "outputs": [],
   "source": [
    "from func_adl_servicex import ServiceXSourceUpROOT\n",
    "from hist import Hist\n",
    "import awkward as ak"
   ]
  },
  {
   "cell_type": "markdown",
   "id": "69fa52c1-f96f-43ec-a0d5-c57bf0185123",
   "metadata": {},
   "source": [
    "We will process only one file from one of the samples. \n",
    "File is accessed using root protocol."
   ]
  },
  {
   "cell_type": "code",
   "execution_count": 2,
   "id": "ff0b68c3-d733-4e3c-8f64-8fbafbe10ca7",
   "metadata": {},
   "outputs": [],
   "source": [
    "input_files = ['root://eospublic.cern.ch//eos/opendata/atlas/OutreachDatasets/2020-01-22/4lep/MC/mc_345060.ggH125_ZZ4lep.4lep.root']\n",
    "treename='mini'"
   ]
  },
  {
   "cell_type": "markdown",
   "id": "7a2d3448-d2b0-48dc-ab3e-011660fb628c",
   "metadata": {},
   "source": [
    "The following command does almost everything.\n",
    "\n",
    "First, it specifies data source by calling ServiceXSourceUpROOT and giving it filepath, root tree containing data, and a name of servicex to use.\n",
    "Name of the service to use has to be listed in the file servicex.yaml. In this repo there are two servicex instances that can process this data: uproot-af and uproot-fabric\n",
    "\n",
    "Secondly, for every event it gets lepton pT.\n",
    "\n",
    "Finally, it specifies that the data should be returned as an Awkward Array. "
   ]
  },
  {
   "cell_type": "code",
   "execution_count": 3,
   "id": "9dad3314-8fe4-4bec-8c18-9aead81679ec",
   "metadata": {},
   "outputs": [],
   "source": [
    "data = ServiceXSourceUpROOT(input_files, treename, backend_name='uproot-fabric') \\\n",
    "    .Select(\"lambda e: {'lep_pt': e['lep_pt']}\") \\\n",
    "    .AsAwkwardArray() \\\n",
    "    .value()"
   ]
  },
  {
   "cell_type": "markdown",
   "id": "b106f191-c613-400d-ac22-52dc277d3524",
   "metadata": {},
   "source": [
    "Now that the data has been returned, we fill and show histogram."
   ]
  },
  {
   "cell_type": "code",
   "execution_count": 4,
   "id": "9eeca7b8-294c-427d-be5c-54efb8f87a7f",
   "metadata": {},
   "outputs": [
    {
     "data": {
      "image/png": "[encoded data removed]",
      "text/plain": [
       "<Figure size 432x288 with 1 Axes>"
      ]
     },
     "metadata": {
      "needs_background": "light"
     },
     "output_type": "display_data"
    }
   ],
   "source": [
    "h = (Hist.new\n",
    "     .Reg(50, 0, 200, name='Lepton_pt', label='Lepton Track $p_T$')\n",
    "     .Int64()\n",
    "     )\n",
    "h.fill(ak.flatten(data['lep_pt'])/1000.0)\n",
    "_ = h.plot()"
   ]
  },
  {
   "cell_type": "code",
   "execution_count": null,
   "id": "d44a2b05-7e21-44f2-abdd-e472b515d423",
   "metadata": {},
   "outputs": [],
   "source": []
  }
 ],
 "metadata": {
  "kernelspec": {
   "display_name": "Python 3 (ipykernel)",
   "language": "python",
   "name": "python3"
  },
  "language_info": {
   "codemirror_mode": {
    "name": "ipython",
    "version": 3
   },
   "file_extension": ".py",
   "mimetype": "text/x-python",
   "name": "python",
   "nbconvert_exporter": "python",
   "pygments_lexer": "ipython3",
   "version": "3.8.12"
  }
 },
 "nbformat": 4,
 "nbformat_minor": 5
}
